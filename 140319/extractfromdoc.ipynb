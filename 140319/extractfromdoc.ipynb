{
 "cells": [
  {
   "cell_type": "code",
   "execution_count": 1,
   "metadata": {},
   "outputs": [],
   "source": [
    "import shutil\n",
    "import os\n",
    "import zipfile\n",
    "\n",
    "#useful tool for extracting information from XML\n",
    "import re\n",
    "\n",
    "#to pretty print our xml:\n",
    "import xml.dom.minidom\n",
    "path = \"/Users/SherryT/Documents/resumes/2018/untitled/\"\n",
    "files = [(path + file) for file in os.listdir(path)]"
   ]
  },
  {
   "cell_type": "code",
   "execution_count": 19,
   "metadata": {},
   "outputs": [
    {
     "name": "stdout",
     "output_type": "stream",
     "text": [
      "Table 0\n",
      "Unsupervised Learning\n",
      "\n",
      "Unsupervised Learning\n",
      "\n",
      "Unsupervised Learning\n",
      "\n",
      "Unsupervised Learning\n",
      "\n",
      "Student Name/ID\n",
      "Item\n",
      "Description\n",
      "Reference/Comments\n",
      "\n",
      "\n",
      "\n",
      "\n",
      "\n",
      "\n",
      "\n",
      "\n",
      "\n",
      "\n",
      "\n",
      "\n",
      "\n",
      "\n",
      "\n",
      "\n",
      "\n",
      "\n",
      "\n",
      "\n",
      "\n",
      "Other\n",
      "Any other contributions\n",
      "\n",
      "Table 1\n",
      "Deep Learning\n",
      "\n",
      "Deep Learning\n",
      "\n",
      "Deep Learning\n",
      "\n",
      "Deep Learning\n",
      "\n",
      "Student Name/ID\n",
      "Item\n",
      "Description\n",
      "Reference/Comments\n",
      "\n",
      "\n",
      "\n",
      "\n",
      "\n",
      "\n",
      "\n",
      "\n",
      "\n",
      "\n",
      "\n",
      "\n",
      "\n",
      "\n",
      "\n",
      "\n",
      "\n",
      "\n",
      "\n",
      "\n",
      "\n",
      "Other\n",
      "Any other contributions.\n",
      "\n",
      "Table 2\n",
      "Overall compilation of report\n",
      "(Please include name/id of students who are doing this)\n",
      "Overall compilation of report\n",
      "(Please include name/id of students who are doing this)\n",
      "Overall compilation of report\n",
      "(Please include name/id of students who are doing this)\n",
      "Overall compilation of report\n",
      "(Please include name/id of students who are doing this)\n",
      "Student Name/ID\n",
      "Evaluation item\n",
      "Description\n",
      "Comments\n",
      "\n",
      "Report\n",
      "[a section of report, or whole report]\n",
      "\n",
      "\n",
      "\n",
      "\n",
      "\n",
      "\n",
      "Other\n",
      "\n",
      "\n",
      "Table 3\n",
      "Bonus: Chatbot Mini Project\n",
      "\n",
      "Bonus: Chatbot Mini Project\n",
      "\n",
      "Bonus: Chatbot Mini Project\n",
      "\n",
      "Bonus: Chatbot Mini Project\n",
      "\n",
      "Student Name/ID\n",
      "Item\n",
      "Description\n",
      "Reference/Comments\n",
      "\n",
      "\n",
      "\n",
      "\n",
      "\n",
      "\n",
      "\n",
      "\n",
      "\n",
      "\n",
      "\n",
      "\n",
      "\n",
      "\n",
      "\n",
      "\n",
      "\n",
      "\n",
      "\n",
      "\n",
      "\n",
      "Other\n",
      "Any other contributions.\n",
      "\n"
     ]
    }
   ],
   "source": [
    "import docx\n",
    "\n",
    "def getText(filename):\n",
    "    doc = docx.Document(filename)\n",
    "    \n",
    "    return doc.paragraphs, doc.tables\n",
    "\n",
    "def gettabletext(tables):\n",
    "    for i,table in enumerate(tables):\n",
    "        print(\"Table {}\".format(i))\n",
    "        for row in table.rows:\n",
    "            for cell in row.cells:\n",
    "                for paragraph in cell.paragraphs:\n",
    "                    print(paragraph.text)\n",
    "\n",
    "def getparas(body):\n",
    "    fullText=[]\n",
    "    for para in body:\n",
    "        fullText.append(para.text)\n",
    "        #print(para.text)\n",
    "    return '\\n'.join(fullText)\n",
    "            \n",
    "body,tables = getText('test2.docx')\n",
    "gettabletext(tables)\n",
    "bodytextjoined = getparas(body)\n"
   ]
  },
  {
   "cell_type": "code",
   "execution_count": 21,
   "metadata": {},
   "outputs": [
    {
     "name": "stdout",
     "output_type": "stream",
     "text": [
      "Assignment 2 (CA2: 40%) \n",
      "\n",
      "The objective of the assignment is to help you build a conversational agent or chatbot that is able to perform some useful tasks.\n",
      "\n",
      "Guidelines\n",
      "\n",
      "You are to work on the problem set in groups of 1-3.\n",
      "Please include Appendix I to detail out the contributions by respective students.\n",
      "Appendix I is not necessary if you are doing the project solo.\n",
      "\n",
      "Submit your code and in a compressed package (zip file).\n",
      "\n",
      "Students are required to submit their assignment using the assignment link under the Assignment folder.\n",
      "\n",
      "The normal SP’s academic policies on Copyright and Plagiarism  applies. Please note that you are to cite all sources. You may refer to the citation guide available at: \n",
      "\n",
      "\n",
      "Submission Details\n",
      "\n",
      "Deadline:  15 Feb, 2019, 11:59pm\n",
      "Submit through: Blackboard\n",
      " \n",
      "Late Submission\n",
      "\n",
      "50% of the marks will be deducted for assignments that are received within ONE (1) calendar day after the submission deadline. No marks will be given thereafter.\n",
      "Exceptions to this policy will be given to students with valid LOA on medical or compassionate grounds. Students in such cases will need to inform the lecturer as soon as reasonably possible. Students are not to assume on their own that their deadline has been extended.\n",
      "\n",
      "\n",
      "\n",
      "PART A: UNSUPERVISED LEARNING (40 marks)\n",
      "\n",
      "\n",
      "Background\n",
      "Given the iris dataset, if we knew that there were k types of iris, but did not have access to a taxonomist to label them: we could try a clustering task: split the observations into well-separated group called clusters.\n",
      "\n",
      "Dataset\n",
      "Use the iris dataset from scikit-learn\n",
      "\n",
      "\n",
      "Tasks\n",
      "Write the code to solve the clustering task. Normally you would be using scikit-learn, but if you'd prefer to work with your own implementation of learning algorithms, or some other toolkit, that is fine.\n",
      "Write a short report (1-2 pages) detailing your implementation, your experiments and analysis.\n",
      "Test your clustering with different possible values of k\n",
      "Determine the best possible value of k. And show how you are able to determine that this is the best value for k.\n",
      "\n",
      "\n",
      "\n",
      "\n",
      "\n",
      "\n",
      "PART B: DEEP LEARNING (60 marks)\n",
      "\n",
      "\n",
      "Background\n",
      "Implement an image classifier using a deep learning network. You may use any of the well-known Deep Learning (DL) network models such as AlexNet, ResNet, etc.\n",
      "\n",
      "\n",
      "Dataset\n",
      "You are to use the MNIST dataset.\n",
      "\n",
      "Tasks\n",
      "Write the code to solve the prediction task. Normally you would be using TensorFlow/Keras, but if you'd prefer to work with your own implementation of learning algorithms, or some other toolkit, that is fine.\n",
      "Write a short report (1-3 pages) detailing your implementation, your experiments and analysis. In particular, we'd like to know:\n",
      "\n",
      "How is your prediction task defined? And what is the meaning of the output variable?\n",
      "How do you represent your data as features?\n",
      "Did you process the features in any way?\n",
      "Did you bring in any additional sources of data?\n",
      "How did you select which DL model to use?\n",
      "Did you try to tune the hyperparameters of the learning algorithm, and in that case how?\n",
      "How do you evaluate the quality of your system?\n",
      "Can you say anything about the errors that the system makes? For a classification task, you may consider a confusion matrix.\n",
      "Is it possible to say something about which features the model considers important? (Whether this is possible depends on the type of classifier you are using)\n",
      "Provide a reference section for any papers, online articles, books, publications that you have referenced.\n",
      "\n",
      "\n",
      "\n",
      "Submission requirements\n",
      "\n",
      "Submit a zip file containing all the project files (python files or notebook), all data sets used, and the report.\n",
      "Submit online via the Assignment link.\n",
      "\n",
      "\n",
      "\n",
      "\n",
      "PART C: CHATBOT Mini Project (Bonus — 20 marks)\n",
      "This part is optional and is not a requirement\n",
      "\n",
      "Background\n",
      "Build a chatbot to perform some useful functions such as providing information or recommendations.\n",
      "\n",
      "Dataset\n",
      "You are to choose your own data sets or use existing data sets.\n",
      "\n",
      "Model\n",
      "You can develop a new model for the data set or use an existing model.\n",
      "\n",
      "Tasks\n",
      "Write the code for the chatbot.\n",
      "Integrate the chatbot with the data sets & model\n",
      "\n",
      "\n",
      "Submission requirements\n",
      "\n",
      "Submit a zip file containing all the project files (all source files — e.g. html, js, css, py files), all data sets used, and mini project summary (in powerpoint format with all the main screens captured and annotated).\n",
      "\n",
      "\n",
      "\n",
      "\n",
      "— End of Assignment —\n",
      "\n",
      "\n",
      "APPENDIX I\n",
      "\n",
      "Summary table of contributions (to be included in your report submission in an appendix)\n",
      "\n",
      "\n",
      "\n",
      "\n",
      "\n",
      "\n",
      "\n",
      "\n",
      "\n",
      "\n",
      "\n",
      "\n"
     ]
    }
   ],
   "source": [
    "print(bodytextjoined)"
   ]
  },
  {
   "cell_type": "code",
   "execution_count": 18,
   "metadata": {},
   "outputs": [
    {
     "data": {
      "text/plain": [
       "['Assignment 2 (CA2: 40%)',\n",
       " 'The objective of the assignment is to help you build a conversational agent or chatbot that is able to perform some useful tasks.',\n",
       " 'Guidelines',\n",
       " 'You are to work on the problem set in groups of 1-3.',\n",
       " 'Please include Appendix I to detail out the contributions by respective students.',\n",
       " 'Appendix I is not necessary if you are doing the project solo.',\n",
       " 'Submit your code and in a compressed package (zip file).',\n",
       " 'Students are required to submit their assignment using the assignment link under the Assignment folder.',\n",
       " 'The normal SP’s academic policies on Copyright and Plagiarism  applies. Please note that you are to cite all sources. You may refer to the citation guide available at:',\n",
       " 'Submission Details',\n",
       " 'Deadline:  15 Feb, 2019, 11:59pm',\n",
       " 'Submit through: Blackboard',\n",
       " 'Late Submission',\n",
       " '50% of the marks will be deducted for assignments that are received within ONE (1) calendar day after the submission deadline. No marks will be given thereafter.',\n",
       " 'Exceptions to this policy will be given to students with valid LOA on medical or compassionate grounds. Students in such cases will need to inform the lecturer as soon as reasonably possible. Students are not to assume on their own that their deadline has been extended.',\n",
       " 'PART A: UNSUPERVISED LEARNING (40 marks)',\n",
       " 'Background',\n",
       " 'Given the iris dataset, if we knew that there were k types of iris, but did not have access to a taxonomist to label them: we could try a clustering task: split the observations into well-separated group called clusters.',\n",
       " 'Dataset',\n",
       " 'Use the iris dataset from scikit-learn',\n",
       " 'Tasks',\n",
       " \"Write the code to solve the clustering task. Normally you would be using scikit-learn, but if you'd prefer to work with your own implementation of learning algorithms, or some other toolkit, that is fine.\",\n",
       " 'Write a short report (1-2 pages) detailing your implementation, your experiments and analysis.',\n",
       " 'Test your clustering with different possible values of k',\n",
       " 'Determine the best possible value of k. And show how you are able to determine that this is the best value for k.',\n",
       " 'PART B: DEEP LEARNING (60 marks)',\n",
       " 'Background',\n",
       " 'Implement an image classifier using a deep learning network. You may use any of the well-known Deep Learning (DL) network models such as AlexNet, ResNet, etc.',\n",
       " 'Dataset',\n",
       " 'You are to use the MNIST dataset.',\n",
       " 'Tasks',\n",
       " \"Write the code to solve the prediction task. Normally you would be using TensorFlow/Keras, but if you'd prefer to work with your own implementation of learning algorithms, or some other toolkit, that is fine.\",\n",
       " \"Write a short report (1-3 pages) detailing your implementation, your experiments and analysis. In particular, we'd like to know:\",\n",
       " 'How is your prediction task defined? And what is the meaning of the output variable?',\n",
       " 'How do you represent your data as features?',\n",
       " 'Did you process the features in any way?',\n",
       " 'Did you bring in any additional sources of data?',\n",
       " 'How did you select which DL model to use?',\n",
       " 'Did you try to tune the hyperparameters of the learning algorithm, and in that case how?',\n",
       " 'How do you evaluate the quality of your system?',\n",
       " 'Can you say anything about the errors that the system makes? For a classification task, you may consider a confusion matrix.',\n",
       " 'Is it possible to say something about which features the model considers important? (Whether this is possible depends on the type of classifier you are using)',\n",
       " 'Provide a reference section for any papers, online articles, books, publications that you have referenced.',\n",
       " 'Submission requirements',\n",
       " 'Submit a zip file containing all the project files (python files or notebook), all data sets used, and the report.',\n",
       " 'Submit online via the Assignment link.',\n",
       " 'PART C: CHATBOT Mini Project (Bonus — 20 marks)',\n",
       " 'This part is optional and is not a requirement',\n",
       " 'Background',\n",
       " 'Build a chatbot to perform some useful functions such as providing information or recommendations.',\n",
       " 'Dataset',\n",
       " 'You are to choose your own data sets or use existing data sets.',\n",
       " 'Model',\n",
       " 'You can develop a new model for the data set or use an existing model.',\n",
       " 'Tasks',\n",
       " 'Write the code for the chatbot.',\n",
       " 'Integrate the chatbot with the data sets & model',\n",
       " 'Submission requirements',\n",
       " 'Submit a zip file containing all the project files (all source files — e.g. html, js, css, py files), all data sets used, and mini project summary (in powerpoint format with all the main screens captured and annotated).',\n",
       " '— End of Assignment —',\n",
       " 'APPENDIX I',\n",
       " 'Summary table of contributions (to be included in your report submission in an appendix)']"
      ]
     },
     "execution_count": 18,
     "metadata": {},
     "output_type": "execute_result"
    }
   ],
   "source": [
    "bodytextjoined.splitlines()\n",
    "newtext = [i for i in bodytextjoined.splitlines() if i ]\n",
    "newtext"
   ]
  },
  {
   "cell_type": "code",
   "execution_count": 79,
   "metadata": {},
   "outputs": [],
   "source": [
    "#doesn't work\n",
    "import translate"
   ]
  },
  {
   "cell_type": "code",
   "execution_count": 125,
   "metadata": {},
   "outputs": [
    {
     "data": {
      "text/plain": [
       "'MSD é uma empresa global líder no segmento farmacêutico com um portfolio diversificado  de remédios de prescrição, vacinas e produtos para saúde animal. A diferença entre potencial e realizações está a faísca que alimenta inovação e inventividade; esse é o espaço aonde a MSD codificou seu legado de 125 anos. O sucesso da MSD é respaldado por integridade ética, impulso imediato e uma missão inspiradora para alcançar novos  marcos na assistência médica global. MSD é uma empresa preocupada com a diversidade e considera profissionais portadores de necessidades especiais para todas as suas posições.'"
      ]
     },
     "execution_count": 125,
     "metadata": {},
     "output_type": "execute_result"
    }
   ],
   "source": [
    "from translate import Translator\n",
    "translator= Translator(to_lang='en')\n",
    "text = \"这是一支笔\"\n",
    "translation = translator.translate(text2)\n",
    "translation"
   ]
  },
  {
   "cell_type": "code",
   "execution_count": 24,
   "metadata": {},
   "outputs": [
    {
     "name": "stdout",
     "output_type": "stream",
     "text": [
      "SENIOR PRODUCT MANAGER - VACCINES (HUMAN HEALTH) JOB\n"
     ]
    }
   ],
   "source": [
    "# works very well but may be blocked anytime\n",
    "from googletrans import Translator\n",
    "\n",
    "text = \"GERENTE DE PRODUTO SÊNIOR - VACINAS (SAÚDE HUMANA) JOB\"\n",
    "translator = Translator()\n",
    "translatedtext = translator.translate(text)\n",
    "print(translatedtext.text)"
   ]
  },
  {
   "cell_type": "code",
   "execution_count": 113,
   "metadata": {},
   "outputs": [
    {
     "name": "stdout",
     "output_type": "stream",
     "text": [
      "MSD is a leading global pharmaceutical company with a diversified portfolio of prescription drugs, vaccines and animal health products. The difference between potential and achievements is the spark that feeds innovation and inventiveness; this is the space where MSD codified its 125-year legacy. MSD's success is backed by ethical integrity, immediate momentum, and an inspiring mission to reach new milestones in global medical care. MSD is a company concerned with diversity and considers professionals with special needs for all their positions.\n"
     ]
    }
   ],
   "source": [
    "text2 = \"MSD é uma empresa global líder no segmento farmacêutico com um portfolio diversificado  de remédios de prescrição, vacinas e produtos para saúde animal. A diferença entre potencial e realizações está a faísca que alimenta inovação e inventividade; esse é o espaço aonde a MSD codificou seu legado de 125 anos. O sucesso da MSD é respaldado por integridade ética, impulso imediato e uma missão inspiradora para alcançar novos  marcos na assistência médica global. MSD é uma empresa preocupada com a diversidade e considera profissionais portadores de necessidades especiais para todas as suas posições.\"\n",
    "translatedtext = translator.translate(text2)\n",
    "print(translatedtext.text)"
   ]
  },
  {
   "cell_type": "code",
   "execution_count": 114,
   "metadata": {},
   "outputs": [
    {
     "name": "stdout",
     "output_type": "stream",
     "text": [
      "You are part of the Global Quality IT team. Together with your colleague, you work at and for the Haarlem branch for the computerized systems in Haarlem and report within the global QA IT organization. You work on the site and for the site. You get your priorities for your tasks from the site, so that you ensure that the documents are delivered on time so that the site can produce efficiently. You report within the Global QA-IT organization. This gives you many options for aligning information across the MSD sites.\n"
     ]
    }
   ],
   "source": [
    "text3=\"Je maakt onderdeel uit van het Global Quality IT team. Samen met je collega ben je werkzaam op en voor de vestiging Haarlem voor de gecomputerizeerde systemen in Haarlem en rapporteert binnen de globale QA IT organisatie. Je werkt op de site en voor de site. Je krijgt je prioriteiten voor je taken vanuit de site, zodat je er mee voor zorgt de documenten tijdig zijn opgeleverd opdat de site efficiënt kan produceren.Je rapporteert binnen de Globale QA-IT organisatie. Dit geeft je veel mogelijkheden om over de MSD sites heen informatie te aligneren.\"\n",
    "translatedtext = translator.translate(text3)\n",
    "print(translatedtext.text)"
   ]
  },
  {
   "cell_type": "code",
   "execution_count": 23,
   "metadata": {},
   "outputs": [
    {
     "ename": "NameError",
     "evalue": "name 'translator' is not defined",
     "output_type": "error",
     "traceback": [
      "\u001b[0;31m---------------------------------------------------------------------------\u001b[0m",
      "\u001b[0;31mNameError\u001b[0m                                 Traceback (most recent call last)",
      "\u001b[0;32m<ipython-input-23-31f5685723c3>\u001b[0m in \u001b[0;36m<module>\u001b[0;34m()\u001b[0m\n\u001b[1;32m      1\u001b[0m \u001b[0mtext4\u001b[0m\u001b[0;34m=\u001b[0m\u001b[0;34m\"(资深) 地区市场准入经理\"\u001b[0m\u001b[0;34m\u001b[0m\u001b[0;34m\u001b[0m\u001b[0m\n\u001b[0;32m----> 2\u001b[0;31m \u001b[0mtranslatedtext\u001b[0m \u001b[0;34m=\u001b[0m \u001b[0mtranslator\u001b[0m\u001b[0;34m.\u001b[0m\u001b[0mtranslate\u001b[0m\u001b[0;34m(\u001b[0m\u001b[0mtext4\u001b[0m\u001b[0;34m)\u001b[0m\u001b[0;34m\u001b[0m\u001b[0;34m\u001b[0m\u001b[0m\n\u001b[0m\u001b[1;32m      3\u001b[0m \u001b[0mprint\u001b[0m\u001b[0;34m(\u001b[0m\u001b[0mtranslatedtext\u001b[0m\u001b[0;34m.\u001b[0m\u001b[0mtext\u001b[0m\u001b[0;34m)\u001b[0m\u001b[0;34m\u001b[0m\u001b[0;34m\u001b[0m\u001b[0m\n",
      "\u001b[0;31mNameError\u001b[0m: name 'translator' is not defined"
     ]
    }
   ],
   "source": [
    "text4=\"(资深) 地区市场准入经理\"\n",
    "translatedtext = translator.translate(text4)\n",
    "print(translatedtext.text)"
   ]
  },
  {
   "cell_type": "code",
   "execution_count": 25,
   "metadata": {},
   "outputs": [
    {
     "data": {
      "text/plain": [
       "[zh-cn:0.8571405710937794, ko:0.14285942344513575]"
      ]
     },
     "execution_count": 25,
     "metadata": {},
     "output_type": "execute_result"
    }
   ],
   "source": [
    "from langdetect import detect_langs\n",
    "detect_langs(text4)"
   ]
  },
  {
   "cell_type": "code",
   "execution_count": 33,
   "metadata": {},
   "outputs": [
    {
     "data": {
      "text/plain": [
       "False"
      ]
     },
     "execution_count": 33,
     "metadata": {},
     "output_type": "execute_result"
    }
   ],
   "source": [
    "# works well, use this to check that language is not en before translating\n",
    "from langdetect import detect_langs\n",
    "str(detect_langs(text4)[0]).split(':')[0] == 'en'"
   ]
  },
  {
   "cell_type": "code",
   "execution_count": null,
   "metadata": {},
   "outputs": [],
   "source": []
  }
 ],
 "metadata": {
  "kernelspec": {
   "display_name": "Python 3",
   "language": "python",
   "name": "python3"
  },
  "language_info": {
   "codemirror_mode": {
    "name": "ipython",
    "version": 3
   },
   "file_extension": ".py",
   "mimetype": "text/x-python",
   "name": "python",
   "nbconvert_exporter": "python",
   "pygments_lexer": "ipython3",
   "version": "3.6.7"
  }
 },
 "nbformat": 4,
 "nbformat_minor": 2
}
