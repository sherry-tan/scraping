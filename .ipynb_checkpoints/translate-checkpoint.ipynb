{
 "cells": [
  {
   "cell_type": "code",
   "execution_count": 2,
   "metadata": {},
   "outputs": [],
   "source": [
    "from googletrans import Translator\n",
    "translator = Translator()\n",
    "text = translator.translate('안녕하세요.')"
   ]
  },
  {
   "cell_type": "code",
   "execution_count": 4,
   "metadata": {},
   "outputs": [
    {
     "name": "stdout",
     "output_type": "stream",
     "text": [
      "Hi.\n"
     ]
    }
   ],
   "source": [
    "print(text.text)"
   ]
  },
  {
   "cell_type": "code",
   "execution_count": 15,
   "metadata": {},
   "outputs": [
    {
     "data": {
      "text/plain": [
       "'事實是我的光'"
      ]
     },
     "execution_count": 15,
     "metadata": {},
     "output_type": "execute_result"
    }
   ],
   "source": [
    "translator.translate('veritas lux mea', dest='zh-TW').text"
   ]
  },
  {
   "cell_type": "code",
   "execution_count": 12,
   "metadata": {},
   "outputs": [],
   "source": [
    "chinese= '凯洛特想象过会血法术的女巫可能还会什么，或许是毒巫术，或许是诅咒巫术，但他怎么也没想到这女人转换精神力竟然是为了使用光系法术！与之前诡异的血能不同，光系法术产生的圣洁光辉照亮了整个地下室！“喂，咳咳 ...... 你这就有点过分了吧，你沟通了血能的同时居然还可以使用光系法术？”凯洛特胸膛一阵憋闷，看着完全就像是女神降临的女人喊道。'\n",
    "\n",
    "chinese2 = chinese.split(' ')"
   ]
  },
  {
   "cell_type": "code",
   "execution_count": 13,
   "metadata": {},
   "outputs": [
    {
     "name": "stdout",
     "output_type": "stream",
     "text": [
      "Kerlot imagined what might be the witch of the blood spell, perhaps poison witchcraft, perhaps cursed witchcraft, but he did not expect that this woman converted the spirit is actually to use the light spell! Unlike the previously different blood, the holy light from the light spells illuminates the entire basement! \"Hey, cough\n",
      "......\n",
      "You are a bit too much. When you communicate blood energy, you can still use light spells? \"Kellot's chest was sullen, and she looked at the woman who was just like the goddess.\"\n"
     ]
    }
   ],
   "source": [
    "for word in chinese2:\n",
    "    print(translator.translate(word).text)"
   ]
  },
  {
   "cell_type": "code",
   "execution_count": null,
   "metadata": {},
   "outputs": [],
   "source": []
  }
 ],
 "metadata": {
  "kernelspec": {
   "display_name": "Python 3",
   "language": "python",
   "name": "python3"
  },
  "language_info": {
   "codemirror_mode": {
    "name": "ipython",
    "version": 3
   },
   "file_extension": ".py",
   "mimetype": "text/x-python",
   "name": "python",
   "nbconvert_exporter": "python",
   "pygments_lexer": "ipython3",
   "version": "3.6.7"
  }
 },
 "nbformat": 4,
 "nbformat_minor": 2
}
